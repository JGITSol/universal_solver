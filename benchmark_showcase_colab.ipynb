{
 "cells": [
  {
   "cell_type": "markdown",
   "metadata": {},
   "source": [
    "# Universal Solver: Math Benchmark Showcase (Colab/Cloud Ready)\n",
    "\n",
    "This notebook demonstrates benchmarking of advanced math solvers on industry-standard datasets.\n",
    "- Integrates with HuggingFace Datasets, Kaggle, Google Cloud, and Azure.\n",
    "- Ready for Google Colab and cloud platforms.\n",
    "- Results exportable for further analysis."
   ]
  },
  {
   "cell_type": "code",
   "metadata": {},
   "source": [
    "!pip install -q datasets pandas rich openpyxl pyarrow python-dotenv\n",
    "# If running on Colab, authenticate for Kaggle, GCP, Azure as needed.\n",
    "import os\n",
    "from pathlib import Path\n",
    "from datetime import datetime\n",
    "import pandas as pd\n",
    "from benchmark_datasets import list_benchmark_datasets, load_benchmark_dataset, get_problem_and_answer\n",
    "from showcase_advanced_math import agents, solvers\n",
    "from adv_resolver_math.math_ensemble_adv_ms_hackaton import MathProblemSolver\n"
   ]
  },
  {
   "cell_type": "markdown",
   "metadata": {},
   "source": [
    "## 1. Select Dataset and Sample Size\n",
    "You can use any of the following datasets:"
   ]
  },
  {
   "cell_type": "code",
   "metadata": {},
   "source": [
    "print(list_benchmark_datasets())\n",
    "DATASET = 'gsm8k'  # or 'math', 'mathqa', etc.\n",
    "SAMPLE_SIZE = 5\n",
    "ds = load_benchmark_dataset(DATASET, sample_size=SAMPLE_SIZE)\n",
    "print(f'Sampled {SAMPLE_SIZE} problems from {DATASET}')"
   ]
  },
  {
   "cell_type": "markdown",
   "metadata": {},
   "source": [
    "## 2. Run Benchmark\n",
    "Run all solvers on the sampled problems."
   ]
  },
  {
   "cell_type": "code",
   "metadata": {},
   "source": [
    "rows = []\n",
    "timestamp = datetime.now().strftime('%Y%m%d_%H%M%S')\n",
    "for i, ex in enumerate(ds):\n",
    "    problem, answer = get_problem_and_answer(ex, DATASET)\n",
    "    for solver_name, solver in solvers:\n",
    "        try:\n",
    "            agent_solutions = [solver.get_solution(agent, problem) for agent in agents]\n",
    "            result = solver.vote_on_solutions(agent_solutions)\n",
    "            for sol in agent_solutions:\n",
    "                rows.append({'solver': solver_name, 'problem': problem, 'dataset': DATASET, 'agent': sol.agent_name, 'answer': sol.answer, 'reference': answer, 'confidence': sol.confidence, 'explanation': sol.explanation, 'i': i, 'timestamp': timestamp})\n",
    "            rows.append({'solver': solver_name, 'problem': problem, 'dataset': DATASET, 'agent': 'CONSENSUS', 'answer': result.answer, 'reference': answer, 'confidence': result.confidence, 'explanation': '', 'i': i, 'timestamp': timestamp})\n",
    "        except Exception as e:\n",
    "            rows.append({'solver': solver_name, 'problem': problem, 'dataset': DATASET, 'agent': 'ERROR', 'answer': str(e), 'reference': answer, 'confidence': 0.0, 'explanation': '', 'i': i, 'timestamp': timestamp})\n",
    "df = pd.DataFrame(rows)\n",
    "out_dir = Path('showcase_results')\n",
    "out_dir.mkdir(exist_ok=True)\n",
    "out_path = out_dir / f'benchmark_{DATASET}_{timestamp}.parquet'\n",
    "df.to_parquet(out_path, index=False)\n",
    "print(f'Benchmark complete. Results saved to {out_path}')"
   ]
  },
  {
   "cell_type": "markdown",
   "metadata": {},
   "source": [
    "## 3. Export and Visualize Results\n",
    "You can export to Excel or visualize with pandas, matplotlib, or seaborn."
   ]
  },
  {
   "cell_type": "code",
   "metadata": {},
   "source": [
    "df.head()\n",
    "df.to_excel(out_dir / f'benchmark_{DATASET}_{timestamp}.xlsx', index=False)"
   ]
  },
  {
   "cell_type": "markdown",
   "metadata": {},
   "source": [
    "## 4. Cloud/Platform Integrations\n",
    "- **HuggingFace Datasets**: Used for all math datasets.\n",
    "- **Kaggle**: Download/upload results with `kaggle` CLI.\n",
    "- **Google Cloud Storage**: Use `gcsfs` or `gsutil` to upload results.\n",
    "- **Azure Blob Storage**: Use `azure-storage-blob` to upload results.\n",
    "- **Google Colab**: All code is Colab-ready. Authenticate with Google Drive for persistent storage."
   ]
  },
  {
   "cell_type": "code",
   "metadata": {},
   "source": [
    "# Example: Upload to Google Cloud Storage (requires gcsfs)\n",
    "# !pip install gcsfs\n",
    "# import gcsfs\n",
    "# fs = gcsfs.GCSFileSystem(project='your-gcp-project')\n",
    "# fs.put(str(out_path), 'gs://your-bucket/path/' + str(out_path.name))\n",
    "\n",
    "# Example: Upload to Azure Blob Storage\n",
    "# !pip install azure-storage-blob\n",
    "# from azure.storage.blob import BlobServiceClient\n",
    "# blob_service_client = BlobServiceClient.from_connection_string('your-conn-string')\n",
    "# blob_client = blob_service_client.get_blob_client(container='your-container', blob=str(out_path.name))\n",
    "# with open(out_path, 'rb') as data:\n",
    "#     blob_client.upload_blob(data, overwrite=True)\n",
    "\n",
    "# Example: Upload to Kaggle Datasets\n",
    "# !kaggle datasets version -p showcase_results -m 'New benchmark results'"
   ]
  }
 ],
 "metadata": {
  "kernelspec": {
   "display_name": "Python 3",
   "language": "python",
   "name": "python3"
  },
  "language_info": {
   "name": "python",
   "version": "3.10"
  }
 },
 "nbformat": 4,
 "nbformat_minor": 5
}
