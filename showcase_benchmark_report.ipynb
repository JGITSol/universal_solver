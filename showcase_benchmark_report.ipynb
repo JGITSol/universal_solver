{
 "cells": [
  {
   "cell_type": "markdown",
   "metadata": {},
   "source": [
    "# Universal Solver: Advanced Math Benchmark & Visual Report\n",
    "\n",
    "This notebook provides a comprehensive benchmarking and visual analytics report for the advanced math ensemble solvers. It includes timing, confidence, agreement, and accuracy metrics, as well as rich visualizations and profiling."
   ]
  },
  {
   "cell_type": "code",
   "metadata": {},
   "source": [
    "import pandas as pd\n",
    "import matplotlib.pyplot as plt\n",
    "import seaborn as sns\n",
    "import plotly.express as px\n",
    "from ydata_profiling import ProfileReport\n",
    "from pathlib import Path\n",
    "\n",
    "# Load results\n",
    "DATA_DIR = Path('showcase_results')\n",
    "df = pd.read_parquet(DATA_DIR / 'math_showcase_results.parquet')\n",
    "df.head()"
   ]
  },
  {
   "cell_type": "markdown",
   "metadata": {},
   "source": [
    "## 1. Timing & Confidence Benchmarking"
   ]
  },
  {
   "cell_type": "code",
   "metadata": {},
   "source": [
    "# If timing columns exist, plot them\n",
    "if 'timing' in df.columns:\n",
    "    plt.figure(figsize=(10, 5))\n",
    "    sns.boxplot(data=df, x='solver', y='timing')\n",
    "    plt.title('Solver Timing Distribution (seconds)')\n",
    "    plt.show()\n",
    "else:\n",
    "    print('No timing data available.')"
   ]
  },
  {
   "cell_type": "code",
   "metadata": {},
   "source": [
    "plt.figure(figsize=(10, 5))\n",
    "sns.boxplot(data=df, x='solver', y='confidence')\n",
    "plt.title('Solver Confidence Distribution')\n",
    "plt.show()"
   ]
  },
  {
   "cell_type": "markdown",
   "metadata": {},
   "source": [
    "## 2. Agreement and Consensus Analysis"
   ]
  },
  {
   "cell_type": "code",
   "metadata": {},
   "source": [
    "# Agreement matrix: how often do agents/solvers agree on the same answer?\n",
    "agreement = df.groupby(['problem_type', 'solver'])['final_answer'].nunique().reset_index()\n",
    "agreement['agreement_rate'] = 1 / agreement['final_answer']\n",
    "plt.figure(figsize=(10, 5))\n",
    "sns.barplot(data=agreement, x='solver', y='agreement_rate', hue='problem_type')\n",
    "plt.title('Solver Consensus Rate by Problem Type')\n",
    "plt.show()"
   ]
  },
  {
   "cell_type": "markdown",
   "metadata": {},
   "source": [
    "## 3. Interactive Visualizations (Plotly)"
   ]
  },
  {
   "cell_type": "code",
   "metadata": {},
   "source": [
    "fig = px.box(df, x='solver', y='confidence', color='problem_type', title='Confidence by Solver & Problem Type')\n",
    "fig.show()"
   ]
  },
  {
   "cell_type": "code",
   "metadata": {},
   "source": [
    "fig = px.histogram(df, x='final_answer', color='solver', barmode='group', title='Distribution of Final Answers by Solver')\n",
    "fig.show()"
   ]
  },
  {
   "cell_type": "markdown",
   "metadata": {},
   "source": [
    "## 4. Automated Profiling Report"
   ]
  },
  {
   "cell_type": "code",
   "metadata": {},
   "source": [
    "profile = ProfileReport(df, title='Math Solver Showcase Profiling Report', explorative=True)\n",
    "profile.to_file(DATA_DIR / 'profiling_report.html')\n",
    "print('Profiling report saved to:', DATA_DIR / 'profiling_report.html')"
   ]
  }
 ],
 "metadata": {
  "kernelspec": {
   "display_name": "Python 3",
   "language": "python",
   "name": "python3"
  },
  "language_info": {
   "name": "python",
   "version": "3.10"
  }
 },
 "nbformat": 4,
 "nbformat_minor": 5
}
